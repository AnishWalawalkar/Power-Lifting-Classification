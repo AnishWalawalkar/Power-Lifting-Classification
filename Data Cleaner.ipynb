{
 "cells": [
  {
   "cell_type": "code",
   "execution_count": 134,
   "metadata": {},
   "outputs": [],
   "source": [
    "import glob\n",
    "import shutil\n",
    "from pathlib import Path"
   ]
  },
  {
   "cell_type": "code",
   "execution_count": 135,
   "metadata": {},
   "outputs": [],
   "source": [
    "base = Path('/Users/JustAnish/Downloads/ucfTrainTestlist')"
   ]
  },
  {
   "cell_type": "code",
   "execution_count": 152,
   "metadata": {},
   "outputs": [],
   "source": [
    "train_files = glob.glob(f'{base}/trainlist01.txt')\n",
    "test_files = glob.glob(f'{base}/testlist01.txt')"
   ]
  },
  {
   "cell_type": "code",
   "execution_count": 153,
   "metadata": {},
   "outputs": [],
   "source": [
    "def extract(filename, arr):\n",
    "    with open(filename, 'r') as of:\n",
    "        arr.extend(of.read().split('\\n'))"
   ]
  },
  {
   "cell_type": "code",
   "execution_count": 154,
   "metadata": {},
   "outputs": [],
   "source": [
    "train_data = []\n",
    "for tf in train_files:\n",
    "    extract(tf, train_data)"
   ]
  },
  {
   "cell_type": "code",
   "execution_count": 155,
   "metadata": {},
   "outputs": [],
   "source": [
    "test_data = []\n",
    "for tf in test_files:\n",
    "    extract(tf, test_data)"
   ]
  },
  {
   "cell_type": "code",
   "execution_count": 156,
   "metadata": {},
   "outputs": [],
   "source": [
    "classes = ['BodyWeightSquats', 'CleanAndJerk', 'PushUps', 'BenchPress', 'Lunges', 'PullUps']\n",
    "filter_fn = lambda x: [x for c in classes if c in x]\n",
    "train_data = [x.split(' ')[0] for x in train_data if filter_fn(x)]\n",
    "test_data = [x for x in test_data if filter_fn(x)]"
   ]
  },
  {
   "cell_type": "code",
   "execution_count": 157,
   "metadata": {},
   "outputs": [],
   "source": [
    "train_data_set = set(train_data)\n",
    "test_data_set = set(test_data)"
   ]
  },
  {
   "cell_type": "code",
   "execution_count": 158,
   "metadata": {},
   "outputs": [
    {
     "data": {
      "text/plain": [
       "set()"
      ]
     },
     "execution_count": 158,
     "metadata": {},
     "output_type": "execute_result"
    }
   ],
   "source": [
    "train_data_set.intersection(test_data_set)"
   ]
  },
  {
   "cell_type": "code",
   "execution_count": 159,
   "metadata": {},
   "outputs": [],
   "source": [
    "source_base = Path('/Users/JustAnish/Downloads/UCF-101')\n",
    "dest_base = Path('/Users/JustAnish/Downloads/PowerLIftingData')"
   ]
  },
  {
   "cell_type": "code",
   "execution_count": 160,
   "metadata": {},
   "outputs": [],
   "source": [
    "for c in classes:\n",
    "    for t in ['train', 'test']:\n",
    "        (dest_base/c/t).mkdir(parents=True, exist_ok=True)"
   ]
  },
  {
   "cell_type": "code",
   "execution_count": 161,
   "metadata": {},
   "outputs": [],
   "source": [
    "for t in train_data_set:\n",
    "    c, f = t.split('/')\n",
    "    shutil.copy(str(source_base/c/f), str(dest_base/c/'train'/f))\n",
    "    \n",
    "for t in test_data_set:\n",
    "    c, f = t.split('/')\n",
    "    shutil.copy(str(source_base/c/f), str(dest_base/c/'test'/f))"
   ]
  },
  {
   "cell_type": "code",
   "execution_count": null,
   "metadata": {},
   "outputs": [],
   "source": []
  }
 ],
 "metadata": {
  "kernelspec": {
   "display_name": "Python 3",
   "language": "python",
   "name": "python3"
  },
  "language_info": {
   "codemirror_mode": {
    "name": "ipython",
    "version": 3
   },
   "file_extension": ".py",
   "mimetype": "text/x-python",
   "name": "python",
   "nbconvert_exporter": "python",
   "pygments_lexer": "ipython3",
   "version": "3.7.4"
  }
 },
 "nbformat": 4,
 "nbformat_minor": 2
}
